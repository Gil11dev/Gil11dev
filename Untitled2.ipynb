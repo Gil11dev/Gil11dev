{
  "nbformat": 4,
  "nbformat_minor": 0,
  "metadata": {
    "colab": {
      "provenance": [],
      "authorship_tag": "ABX9TyMr0GRkdrx395wQdAaFQQCE",
      "include_colab_link": true
    },
    "kernelspec": {
      "name": "python3",
      "display_name": "Python 3"
    },
    "language_info": {
      "name": "python"
    }
  },
  "cells": [
    {
      "cell_type": "markdown",
      "metadata": {
        "id": "view-in-github",
        "colab_type": "text"
      },
      "source": [
        "<a href=\"https://colab.research.google.com/github/Gil11dev/Gil11dev/blob/main/Untitled2.ipynb\" target=\"_parent\"><img src=\"https://colab.research.google.com/assets/colab-badge.svg\" alt=\"Open In Colab\"/></a>"
      ]
    },
    {
      "cell_type": "code",
      "execution_count": null,
      "metadata": {
        "id": "XCkqM9x6Epof"
      },
      "outputs": [],
      "source": [
        "!nvidia-smi"
      ]
    },
    {
      "cell_type": "code",
      "source": [
        "pip install ultralytics opencv-python deep-sort-realtime\n"
      ],
      "metadata": {
        "id": "NutiVqAqGxkI"
      },
      "execution_count": null,
      "outputs": []
    },
    {
      "cell_type": "code",
      "source": [
        "from ultralytics import YOLO\n",
        "from deep_sort_realtime.deepsort_tracker import DeepSort\n",
        "\n",
        "# Charger le modèle YOLOv11 pré-entraîné\n",
        "model = YOLO(\"yolov11n.pt\")\n",
        "\n",
        "# Initialiser le tracker DeepSORT\n",
        "tracker = DeepSort(max_age=30)\n"
      ],
      "metadata": {
        "id": "po4Ko_CwGym_"
      },
      "execution_count": null,
      "outputs": []
    },
    {
      "cell_type": "code",
      "source": [
        "from collections import defaultdict\n",
        "\n",
        "# Dictionnaire pour stocker les temps d'apparition des objets\n",
        "object_times = defaultdict(lambda: {\"start\": None, \"end\": None})\n"
      ],
      "metadata": {
        "id": "z4y6klrBG1_v"
      },
      "execution_count": null,
      "outputs": []
    },
    {
      "cell_type": "code",
      "source": [
        "import cv2\n",
        "\n",
        "# Ouvrir le fichier vidéo\n",
        "video_path = \"chemin/vers/votre_video.mp4\"\n",
        "cap = cv2.VideoCapture(video_path)\n",
        "\n",
        "# Obtenir le nombre de frames par seconde (fps) de la vidéo\n",
        "fps = cap.get(cv2.CAP_PROP_FPS)\n",
        "\n",
        "# Initialiser le compteur de frames\n",
        "frame_idx = 0\n",
        "\n",
        "while cap.isOpened():\n",
        "    ret, frame = cap.read()\n",
        "    if not ret:\n",
        "        break\n",
        "\n",
        "    # Exécuter la détection avec YOLOv11 sur la frame actuelle\n",
        "    results = model(frame)\n",
        "\n",
        "    # Préparer les détections pour DeepSORT\n",
        "    detections = []\n",
        "    for result in results:\n",
        "        for box in result.boxes:\n",
        "            x1, y1, x2, y2 = box.xyxy[0]\n",
        "            confidence = box.conf[0]\n",
        "            class_id = box.cls[0]\n",
        "            detections.append(([x1, y1, x2 - x1, y2 - y1], confidence, class_id))\n",
        "\n",
        "    # Mettre à jour le tracker avec les détections actuelles\n",
        "    tracks = tracker.update_tracks(detections, frame=frame)\n",
        "\n",
        "    # Enregistrer les temps d'apparition des objets\n",
        "    current_time = frame_idx / fps\n",
        "    for track in tracks:\n",
        "        if not track.is_confirmed():\n",
        "            continue\n",
        "        track_id = track.track_id\n",
        "        if object_times[track_id][\"start\"] is None:\n",
        "            object_times[track_id][\"start\"] = current_time\n",
        "        object_times[track_id][\"end\"] = current_time\n",
        "\n",
        "    # Incrémenter le compteur de frames\n",
        "    frame_idx += 1\n",
        "\n",
        "cap.release()\n"
      ],
      "metadata": {
        "id": "8p1ZGCm-H53o"
      },
      "execution_count": null,
      "outputs": []
    },
    {
      "cell_type": "code",
      "source": [
        "# Calculer la durée d'apparition de chaque objet\n",
        "for track_id, times in object_times.items():\n",
        "    if times[\"start\"] is not None and times[\"end\"] is not None:\n",
        "        duration = times[\"end\"] - times[\"start\"]\n",
        "        print(f\"Objet ID {track_id}: Durée d'apparition = {duration:.2f} secondes\")\n"
      ],
      "metadata": {
        "id": "xtq_BmDeIICc"
      },
      "execution_count": null,
      "outputs": []
    }
  ]
}